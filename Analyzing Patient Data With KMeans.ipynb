{
 "cells": [
  {
   "cell_type": "markdown",
   "metadata": {},
   "source": [
    "# Research Question\n",
    "\n",
    "In a previous research project[1] we determined that the largest contributer by far to a patient's readmission within 30 days of discharge is the length of their original stay in the hospital, defined in our dataset as ``Initial_days``. \n",
    "\n",
    "Our **question** is this: can we use clustering to find correlation between an attribute of a patient and their initial days? The goal here is to predict what patients are at risk of spending a long time in the hospital."
   ]
  },
  {
   "cell_type": "markdown",
   "metadata": {},
   "source": [
    "# Technique Justification: KMeans\n",
    "\n",
    "We will be using KMeans clustering for this analysis. \n",
    "\n",
    "## How it works\n",
    "\n",
    "K-means divides the data into *K* clusters by minimizing the sum of the squared distances of each record to the *mean* of the assigned cluster.[2] The number of clusters, *K*, is pre-defined by the user.  \n",
    "\n",
    "The algorithm starts by randomly assigning all data points to a cluster then finding the means of those clusters. Then the following 2 steps occur:\n",
    "\n",
    "1. Assign each record to the nearest cluster mean as measured by squared distance.\n",
    "2. Computer the new cluster means based on the assignment of records.\n",
    "\n",
    "These steps repeat until the assignment of records to clusters does not change, meaning the algorithm has converged.[3]\n",
    "\n",
    "KMeans assumes that the data is numeric. Categorical variables will not work properly. KMeans is also most effective on normalized data.\n",
    "\n",
    "## Tools\n",
    "\n",
    "For this analysis we'll be using the ``KMeans`` function from the sci-kit learn library. Sci-kit provides an effective and user-friendly method of applying KMeans to a dataset. "
   ]
  },
  {
   "cell_type": "markdown",
   "metadata": {},
   "source": [
    "# Data Preparation\n",
    "\n",
    "We will not be able to complete the analysis on the data in it's current form. Our **goals** are: \n",
    "\n",
    "1. Remove uneeded data\n",
    "2. Normalize the remaining data so that KMeans will be the most effective\n",
    "\n",
    "## Initial Data Import\n",
    "\n",
    "We know from a previous analysis[1] that the most relevant variables that predict reamission are:\n",
    "\n",
    "- Initial_days\n",
    "- Age\n",
    "- Income\n",
    "- Population\n",
    "- VidD_levels\n",
    "- Full_meals_eaten\n",
    "\n",
    "So, we will first reduce the data to only those variables."
   ]
  },
  {
   "cell_type": "code",
   "execution_count": 16,
   "metadata": {},
   "outputs": [
    {
     "data": {
      "text/html": [
       "<div>\n",
       "<style scoped>\n",
       "    .dataframe tbody tr th:only-of-type {\n",
       "        vertical-align: middle;\n",
       "    }\n",
       "\n",
       "    .dataframe tbody tr th {\n",
       "        vertical-align: top;\n",
       "    }\n",
       "\n",
       "    .dataframe thead th {\n",
       "        text-align: right;\n",
       "    }\n",
       "</style>\n",
       "<table border=\"1\" class=\"dataframe\">\n",
       "  <thead>\n",
       "    <tr style=\"text-align: right;\">\n",
       "      <th></th>\n",
       "      <th>Initial_days</th>\n",
       "      <th>Age</th>\n",
       "      <th>Income</th>\n",
       "      <th>Population</th>\n",
       "      <th>VitD_levels</th>\n",
       "      <th>Full_meals_eaten</th>\n",
       "    </tr>\n",
       "  </thead>\n",
       "  <tbody>\n",
       "    <tr>\n",
       "      <th>0</th>\n",
       "      <td>10.585770</td>\n",
       "      <td>53</td>\n",
       "      <td>86575.93</td>\n",
       "      <td>2951</td>\n",
       "      <td>19.141466</td>\n",
       "      <td>0</td>\n",
       "    </tr>\n",
       "    <tr>\n",
       "      <th>1</th>\n",
       "      <td>15.129562</td>\n",
       "      <td>51</td>\n",
       "      <td>46805.99</td>\n",
       "      <td>11303</td>\n",
       "      <td>18.940352</td>\n",
       "      <td>2</td>\n",
       "    </tr>\n",
       "    <tr>\n",
       "      <th>2</th>\n",
       "      <td>4.772177</td>\n",
       "      <td>53</td>\n",
       "      <td>14370.14</td>\n",
       "      <td>17125</td>\n",
       "      <td>18.057507</td>\n",
       "      <td>1</td>\n",
       "    </tr>\n",
       "    <tr>\n",
       "      <th>3</th>\n",
       "      <td>1.714879</td>\n",
       "      <td>78</td>\n",
       "      <td>39741.49</td>\n",
       "      <td>2162</td>\n",
       "      <td>16.576858</td>\n",
       "      <td>1</td>\n",
       "    </tr>\n",
       "    <tr>\n",
       "      <th>4</th>\n",
       "      <td>1.254807</td>\n",
       "      <td>22</td>\n",
       "      <td>1209.56</td>\n",
       "      <td>5287</td>\n",
       "      <td>17.439069</td>\n",
       "      <td>0</td>\n",
       "    </tr>\n",
       "  </tbody>\n",
       "</table>\n",
       "</div>"
      ],
      "text/plain": [
       "   Initial_days  Age    Income  Population  VitD_levels  Full_meals_eaten\n",
       "0     10.585770   53  86575.93        2951    19.141466                 0\n",
       "1     15.129562   51  46805.99       11303    18.940352                 2\n",
       "2      4.772177   53  14370.14       17125    18.057507                 1\n",
       "3      1.714879   78  39741.49        2162    16.576858                 1\n",
       "4      1.254807   22   1209.56        5287    17.439069                 0"
      ]
     },
     "execution_count": 16,
     "metadata": {},
     "output_type": "execute_result"
    }
   ],
   "source": [
    "#!pip install -r requirements.txt\n",
    "\n",
    "import pandas as pd\n",
    "\n",
    "raw = pd.read_csv('data/medical_clean.csv')\n",
    "df = raw[[\n",
    "    'Initial_days', \n",
    "    'Age', \n",
    "    'Income', \n",
    "    'Population', \n",
    "    'VitD_levels', \n",
    "    'Full_meals_eaten', \n",
    "    ]]\n",
    "\n",
    "df.head()"
   ]
  },
  {
   "cell_type": "markdown",
   "metadata": {},
   "source": [
    "## Normalization\n",
    "\n",
    "Now we normalize the data and save our new dataset to ``medial_normalized.csv``"
   ]
  },
  {
   "cell_type": "code",
   "execution_count": 17,
   "metadata": {},
   "outputs": [
    {
     "data": {
      "text/html": [
       "<div>\n",
       "<style scoped>\n",
       "    .dataframe tbody tr th:only-of-type {\n",
       "        vertical-align: middle;\n",
       "    }\n",
       "\n",
       "    .dataframe tbody tr th {\n",
       "        vertical-align: top;\n",
       "    }\n",
       "\n",
       "    .dataframe thead th {\n",
       "        text-align: right;\n",
       "    }\n",
       "</style>\n",
       "<table border=\"1\" class=\"dataframe\">\n",
       "  <thead>\n",
       "    <tr style=\"text-align: right;\">\n",
       "      <th></th>\n",
       "      <th>Initial_days</th>\n",
       "      <th>Age</th>\n",
       "      <th>Income</th>\n",
       "      <th>Population</th>\n",
       "      <th>VitD_levels</th>\n",
       "      <th>Full_meals_eaten</th>\n",
       "    </tr>\n",
       "  </thead>\n",
       "  <tbody>\n",
       "    <tr>\n",
       "      <th>0</th>\n",
       "      <td>0.14</td>\n",
       "      <td>0.49</td>\n",
       "      <td>0.42</td>\n",
       "      <td>0.02</td>\n",
       "      <td>0.56</td>\n",
       "      <td>0.00</td>\n",
       "    </tr>\n",
       "    <tr>\n",
       "      <th>1</th>\n",
       "      <td>0.20</td>\n",
       "      <td>0.46</td>\n",
       "      <td>0.23</td>\n",
       "      <td>0.09</td>\n",
       "      <td>0.55</td>\n",
       "      <td>0.29</td>\n",
       "    </tr>\n",
       "    <tr>\n",
       "      <th>2</th>\n",
       "      <td>0.05</td>\n",
       "      <td>0.49</td>\n",
       "      <td>0.07</td>\n",
       "      <td>0.14</td>\n",
       "      <td>0.50</td>\n",
       "      <td>0.14</td>\n",
       "    </tr>\n",
       "    <tr>\n",
       "      <th>3</th>\n",
       "      <td>0.01</td>\n",
       "      <td>0.85</td>\n",
       "      <td>0.19</td>\n",
       "      <td>0.02</td>\n",
       "      <td>0.41</td>\n",
       "      <td>0.14</td>\n",
       "    </tr>\n",
       "    <tr>\n",
       "      <th>4</th>\n",
       "      <td>0.00</td>\n",
       "      <td>0.06</td>\n",
       "      <td>0.01</td>\n",
       "      <td>0.04</td>\n",
       "      <td>0.46</td>\n",
       "      <td>0.00</td>\n",
       "    </tr>\n",
       "  </tbody>\n",
       "</table>\n",
       "</div>"
      ],
      "text/plain": [
       "   Initial_days   Age  Income  Population  VitD_levels  Full_meals_eaten\n",
       "0          0.14  0.49    0.42        0.02         0.56              0.00\n",
       "1          0.20  0.46    0.23        0.09         0.55              0.29\n",
       "2          0.05  0.49    0.07        0.14         0.50              0.14\n",
       "3          0.01  0.85    0.19        0.02         0.41              0.14\n",
       "4          0.00  0.06    0.01        0.04         0.46              0.00"
      ]
     },
     "execution_count": 17,
     "metadata": {},
     "output_type": "execute_result"
    }
   ],
   "source": [
    "df = ((df - df.min()) / (df.max() - df.min())).round(2)\n",
    "df.to_csv('data/medical_normalized.csv')\n",
    "df.head()"
   ]
  },
  {
   "cell_type": "markdown",
   "metadata": {},
   "source": [
    "# Analysis\n",
    "\n",
    "## Finding our K value\n",
    "Before we can begin our true analysis we must determine the number of *K* clusters to use. We will run a test using a range of clusters from 2 to 14 to see where we can get the most explained variance with the fewest clusters."
   ]
  },
  {
   "cell_type": "code",
   "execution_count": 18,
   "metadata": {},
   "outputs": [
    {
     "data": {
      "image/png": "[encoded data removed]",
      "text/plain": [
       "<Figure size 432x288 with 1 Axes>"
      ]
     },
     "metadata": {
      "needs_background": "light"
     },
     "output_type": "display_data"
    }
   ],
   "source": [
    "import matplotlib.pyplot as plt\n",
    "from sklearn.cluster import KMeans\n",
    "import random\n",
    "\n",
    "# Run kmeans from 2-15 clusters\n",
    "inertia = []\n",
    "for n_clusters in range(2, 15):\n",
    "    kmeans = KMeans(n_clusters=n_clusters, random_state=0).fit(df)\n",
    "    inertia.append(kmeans.inertia_ / n_clusters)\n",
    "\n",
    "inertias = pd.DataFrame({'n_clusters': range(2, 15), 'inertia': inertia})\n",
    "ax = inertias.plot(x='n_clusters', y='inertia')\n",
    "\n",
    "# graph the results\n",
    "plt.xlabel('Number of clusters(k)')\n",
    "plt.ylabel('Average Within-Cluster Squared Distances')\n",
    "plt.ylim((0, 1.1 * inertias.inertia.max()))\n",
    "ax.legend().set_visible(False)\n",
    "plt.tight_layout()\n",
    "plt.show()"
   ]
  },
  {
   "cell_type": "markdown",
   "metadata": {},
   "source": [
    "By looking at the graph, we see that we get a well-defined elbow at 4 clusters. Meaning that after 4 clusters we get diminishing returns. Therefore, we will choose a *K* of 4.\n",
    "\n",
    "## Analysis\n",
    "\n",
    "We will run our KMeans with 4 clusters and count the number of entries in each cluster."
   ]
  },
  {
   "cell_type": "code",
   "execution_count": 19,
   "metadata": {},
   "outputs": [
    {
     "name": "stdout",
     "output_type": "stream",
     "text": [
      "Counter({3: 2516, 2: 2507, 0: 2495, 1: 2482})\n"
     ]
    }
   ],
   "source": [
    "# run the algorithm\n",
    "kmeans = KMeans(n_clusters=4, random_state=0).fit(df)\n",
    "\n",
    "# Count the clusters\n",
    "from collections import Counter\n",
    "print(Counter(kmeans.labels_))"
   ]
  },
  {
   "cell_type": "markdown",
   "metadata": {},
   "source": [
    "To gain additional Insight we will create a chart of each cluster."
   ]
  },
  {
   "cell_type": "code",
   "execution_count": 20,
   "metadata": {},
   "outputs": [
    {
     "data": {
      "image/png": "[encoded data removed]",
      "text/plain": [
       "<Figure size 360x432 with 4 Axes>"
      ]
     },
     "metadata": {
      "needs_background": "light"
     },
     "output_type": "display_data"
    }
   ],
   "source": [
    "import numpy as np\n",
    "\n",
    "centers = pd.DataFrame(kmeans.cluster_centers_, columns=df.columns)\n",
    "\n",
    "# page 300 in practical statistics\n",
    "f, axes = plt.subplots(4, 1, figsize=(5, 6), sharex=True)\n",
    "for i, ax in enumerate(axes):\n",
    "    center = centers.loc[i, :]\n",
    "    maxPC = 1.01 * np.max(np.max(np.abs(center)))\n",
    "    colors = ['C0' if l > 0 else 'C1' for l in center]\n",
    "    ax.axhline(color='#888888')\n",
    "    center.plot.bar(ax=ax, color=colors)\n",
    "    ax.set_ylabel(f'Cluster {i + 1}')\n",
    "    ax.set_ylim(-maxPC, maxPC)\n",
    "\n",
    "plt.tight_layout()\n",
    "plt.show()"
   ]
  },
  {
   "cell_type": "markdown",
   "metadata": {},
   "source": [
    "# Summary and Implications.\n",
    "\n",
    "Unfortunately our analysis is inconclusive. The result of our KMeans clustering has yielded clusters that contradict each other. We have clusters with high ``initial_days`` and high ``Age``, but we also have clusters with low ``initial_days`` and high ``Age``. No other variable changes significantly between clusters. Our analysis has been limited by a dataset that has no obvious correlations. \n",
    "\n",
    "Due to the limited nature of this analysis no recommendations can be made. The organization should find a better dataset to work with."
   ]
  },
  {
   "cell_type": "markdown",
   "metadata": {},
   "source": [
    "# Bibliography\n",
    "\n",
    "[1] Curtis Hammons. *Logistic Regression on Medical Data*. https://github.com/cjhammons/Logistic-Regression-on-Medical-Data. Accessed 4 Feb 2022.\n",
    "\n",
    "[2] Peter Bruce, Andrew Bruce, Peter Gedeck. *Practical Statistics for Data Scientists*. O'Reilly Media, Inc., 2020. Page 295. \n",
    "\n",
    "[3] Peter Bruce, Andrew Bruce, Peter Gedeck. *Practical Statistics for Data Scientists*. O'Reilly Media, Inc., 2020. Page 298. "
   ]
  }
 ],
 "metadata": {
  "interpreter": {
   "hash": "c8994432eb909c3ce526e018c5ddb0a6deb4d875417993b012abf1930b296d63"
  },
  "kernelspec": {
   "display_name": "Python 3.8.5 64-bit ('env': venv)",
   "language": "python",
   "name": "python3"
  },
  "language_info": {
   "codemirror_mode": {
    "name": "ipython",
    "version": 3
   },
   "file_extension": ".py",
   "mimetype": "text/x-python",
   "name": "python",
   "nbconvert_exporter": "python",
   "pygments_lexer": "ipython3",
   "version": "3.8.5"
  },
  "orig_nbformat": 4
 },
 "nbformat": 4,
 "nbformat_minor": 2
}
